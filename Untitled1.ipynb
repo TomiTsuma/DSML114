{
 "cells": [
  {
   "cell_type": "code",
   "execution_count": 1,
   "id": "5e1ba208",
   "metadata": {},
   "outputs": [],
   "source": [
    "import pyodbc\n",
    "import pandas as pd\n",
    "import numpy as np\n",
    "import os"
   ]
  },
  {
   "cell_type": "code",
   "execution_count": 2,
   "id": "7bb770a0",
   "metadata": {},
   "outputs": [],
   "source": [
    "# Avoid using inner join. Instead use WHERE example: Client_Id IN tuple(df.client_id.values) \n",
    "# Avoid using inner join. Instead use WHERE example: Client_Id IN tuple(df.client_id.values) \n",
    "# Avoid using inner join. Instead use WHERE example: Client_Id IN tuple(df.client_id.values) \n",
    "# Avoid using inner join. Instead use WHERE example: Client_Id IN tuple(df.client_id.values) "
   ]
  },
  {
   "cell_type": "code",
   "execution_count": 3,
   "id": "a957b2c8",
   "metadata": {},
   "outputs": [],
   "source": [
    "conn_lims = pyodbc.connect(\"Driver={SQL Server};\"\n",
    "                        \"Server=192.168.5.18\\CROPNUT;\"\n",
    "                        \"Database=cropnuts;\"\n",
    "                        \"uid=thomasTsuma;pwd=GR^KX$uRe9#JwLc6\")"
   ]
  },
  {
   "cell_type": "code",
   "execution_count": 4,
   "id": "eb82a17b",
   "metadata": {},
   "outputs": [
    {
     "name": "stderr",
     "output_type": "stream",
     "text": [
      "C:\\Users\\Tsuma Thomas\\AppData\\Roaming\\Python\\Python310\\site-packages\\pandas\\io\\sql.py:761: UserWarning: pandas only support SQLAlchemy connectable(engine/connection) ordatabase string URI or sqlite3 DBAPI2 connectionother DBAPI2 objects are not tested, please consider using SQLAlchemy\n",
      "  warnings.warn(\n"
     ]
    }
   ],
   "source": [
    "commercial = pd.read_sql(\"select * from Clients where client_Type = 1 and agent_type = 0\", con=conn_lims)"
   ]
  },
  {
   "cell_type": "code",
   "execution_count": 5,
   "id": "10d9573f",
   "metadata": {},
   "outputs": [
    {
     "data": {
      "text/plain": [
       "7216"
      ]
     },
     "execution_count": 5,
     "metadata": {},
     "output_type": "execute_result"
    }
   ],
   "source": [
    "len(commercial.index)"
   ]
  },
  {
   "cell_type": "code",
   "execution_count": 6,
   "id": "f7c04c81",
   "metadata": {},
   "outputs": [
    {
     "name": "stderr",
     "output_type": "stream",
     "text": [
      "C:\\Users\\Tsuma Thomas\\AppData\\Roaming\\Python\\Python310\\site-packages\\pandas\\io\\sql.py:761: UserWarning: pandas only support SQLAlchemy connectable(engine/connection) ordatabase string URI or sqlite3 DBAPI2 connectionother DBAPI2 objects are not tested, please consider using SQLAlchemy\n",
      "  warnings.warn(\n"
     ]
    }
   ],
   "source": [
    "farmlab = pd.read_sql(\"select * from Clients where  client_Type = 6 and agent_type =7\", con=conn_lims)"
   ]
  },
  {
   "cell_type": "code",
   "execution_count": 7,
   "id": "9c6a5038",
   "metadata": {},
   "outputs": [
    {
     "data": {
      "text/plain": [
       "25"
      ]
     },
     "execution_count": 7,
     "metadata": {},
     "output_type": "execute_result"
    }
   ],
   "source": [
    "len(farmlab.index)"
   ]
  },
  {
   "cell_type": "code",
   "execution_count": 8,
   "id": "b026629f",
   "metadata": {},
   "outputs": [
    {
     "name": "stderr",
     "output_type": "stream",
     "text": [
      "C:\\Users\\Tsuma Thomas\\AppData\\Roaming\\Python\\Python310\\site-packages\\pandas\\io\\sql.py:761: UserWarning: pandas only support SQLAlchemy connectable(engine/connection) ordatabase string URI or sqlite3 DBAPI2 connectionother DBAPI2 objects are not tested, please consider using SQLAlchemy\n",
      "  warnings.warn(\n"
     ]
    }
   ],
   "source": [
    "businessPartners = pd.read_sql(\"select * from Clients where  client_Type = 2 and agent_type = 1 and ParentAgent_id = 0\", con=conn_lims)"
   ]
  },
  {
   "cell_type": "code",
   "execution_count": 9,
   "id": "269ef872",
   "metadata": {},
   "outputs": [
    {
     "data": {
      "text/plain": [
       "121"
      ]
     },
     "execution_count": 9,
     "metadata": {},
     "output_type": "execute_result"
    }
   ],
   "source": [
    "len(businessPartners.index)"
   ]
  },
  {
   "cell_type": "code",
   "execution_count": null,
   "id": "e710b723",
   "metadata": {},
   "outputs": [],
   "source": []
  },
  {
   "cell_type": "code",
   "execution_count": 10,
   "id": "08fb7805",
   "metadata": {},
   "outputs": [
    {
     "name": "stderr",
     "output_type": "stream",
     "text": [
      "C:\\Users\\Tsuma Thomas\\AppData\\Roaming\\Python\\Python310\\site-packages\\pandas\\io\\sql.py:761: UserWarning: pandas only support SQLAlchemy connectable(engine/connection) ordatabase string URI or sqlite3 DBAPI2 connectionother DBAPI2 objects are not tested, please consider using SQLAlchemy\n",
      "  warnings.warn(\n"
     ]
    }
   ],
   "source": [
    "agents = pd.read_sql(\"select * from Clients where  client_Type = 4 and agent_type = 2\", con=conn_lims)"
   ]
  },
  {
   "cell_type": "code",
   "execution_count": 11,
   "id": "695d635f",
   "metadata": {},
   "outputs": [
    {
     "name": "stderr",
     "output_type": "stream",
     "text": [
      "C:\\Users\\Tsuma Thomas\\AppData\\Roaming\\Python\\Python310\\site-packages\\pandas\\io\\sql.py:761: UserWarning: pandas only support SQLAlchemy connectable(engine/connection) ordatabase string URI or sqlite3 DBAPI2 connectionother DBAPI2 objects are not tested, please consider using SQLAlchemy\n",
      "  warnings.warn(\n"
     ]
    }
   ],
   "source": [
    "crops = pd.read_sql(\"select Crop_Code, Crop_Name from crops\", con=conn_lims)"
   ]
  },
  {
   "cell_type": "code",
   "execution_count": 12,
   "id": "0fb98f0d",
   "metadata": {},
   "outputs": [],
   "source": [
    "for col in crops.columns:\n",
    "    crops = crops.rename(columns={col : col.lower()})"
   ]
  },
  {
   "cell_type": "code",
   "execution_count": 13,
   "id": "7631bf28",
   "metadata": {},
   "outputs": [],
   "source": [
    "for col in commercial.columns:\n",
    "    commercial = commercial.rename(columns={col : col.lower()})\n",
    "for col in farmlab.columns:\n",
    "    farmlab = farmlab.rename(columns={col : col.lower()})\n",
    "for col in businessPartners.columns:\n",
    "    businessPartners = businessPartners.rename(columns={col : col.lower()})\n",
    "for col in agents.columns:\n",
    "    agents = agents.rename(columns={col : col.lower()})"
   ]
  },
  {
   "cell_type": "code",
   "execution_count": 14,
   "id": "8a948823",
   "metadata": {},
   "outputs": [
    {
     "name": "stderr",
     "output_type": "stream",
     "text": [
      "C:\\Users\\Tsuma Thomas\\AppData\\Roaming\\Python\\Python310\\site-packages\\pandas\\io\\sql.py:761: UserWarning: pandas only support SQLAlchemy connectable(engine/connection) ordatabase string URI or sqlite3 DBAPI2 connectionother DBAPI2 objects are not tested, please consider using SQLAlchemy\n",
      "  warnings.warn(\n"
     ]
    }
   ],
   "source": [
    "chemicals = pd.read_sql(\"select Chemical_Code, Chemical_Symbol from Chemicals\", con=conn_lims)"
   ]
  },
  {
   "cell_type": "code",
   "execution_count": null,
   "id": "a03c80fd",
   "metadata": {},
   "outputs": [],
   "source": []
  },
  {
   "cell_type": "code",
   "execution_count": 15,
   "id": "965b28ed",
   "metadata": {},
   "outputs": [],
   "source": [
    "chemicals['Chemical_Symbol'] = [i.strip() for i in chemicals['Chemical_Symbol'].fillna(\"\").values] \n",
    "for col in chemicals.columns:\n",
    "    chemicals = chemicals.rename(columns={col : col.lower()})"
   ]
  },
  {
   "cell_type": "code",
   "execution_count": 16,
   "id": "3a000d21",
   "metadata": {},
   "outputs": [
    {
     "name": "stderr",
     "output_type": "stream",
     "text": [
      "C:\\Users\\Tsuma Thomas\\AppData\\Roaming\\Python\\Python310\\site-packages\\pandas\\io\\sql.py:761: UserWarning: pandas only support SQLAlchemy connectable(engine/connection) ordatabase string URI or sqlite3 DBAPI2 connectionother DBAPI2 objects are not tested, please consider using SQLAlchemy\n",
      "  warnings.warn(\n"
     ]
    }
   ],
   "source": [
    "farms = pd.read_sql(\"SELECT Farm_Code, Farm_Name from Farms\", con=conn_lims)"
   ]
  },
  {
   "cell_type": "code",
   "execution_count": 17,
   "id": "dd82a476",
   "metadata": {},
   "outputs": [],
   "source": [
    "for col in farms.columns:\n",
    "    farms = farms.rename(columns={col : col.lower()})"
   ]
  },
  {
   "cell_type": "code",
   "execution_count": 18,
   "id": "6c1d3d13",
   "metadata": {},
   "outputs": [
    {
     "name": "stderr",
     "output_type": "stream",
     "text": [
      "C:\\Users\\Tsuma Thomas\\AppData\\Roaming\\Python\\Python310\\site-packages\\pandas\\io\\sql.py:761: UserWarning: pandas only support SQLAlchemy connectable(engine/connection) ordatabase string URI or sqlite3 DBAPI2 connectionother DBAPI2 objects are not tested, please consider using SQLAlchemy\n",
      "  warnings.warn(\n"
     ]
    }
   ],
   "source": [
    "nutrient = pd.read_sql(\"Select use_nutrient_req,use_YieldvsSoilTestRanges,crop_code, chemical_code, client_id, Farm_Code from YieldvsSoilTestRangesSettings\", con = conn_lims)"
   ]
  },
  {
   "cell_type": "code",
   "execution_count": 19,
   "id": "8daa1c50",
   "metadata": {},
   "outputs": [],
   "source": [
    "for col in nutrient.columns:\n",
    "    if(col == \"use_YieldvsSoilTestRanges\"):\n",
    "        continue\n",
    "    nutrient = nutrient.rename(columns={col : col.lower()})"
   ]
  },
  {
   "cell_type": "code",
   "execution_count": 20,
   "id": "7bd91994",
   "metadata": {},
   "outputs": [
    {
     "data": {
      "text/html": [
       "<div>\n",
       "<style scoped>\n",
       "    .dataframe tbody tr th:only-of-type {\n",
       "        vertical-align: middle;\n",
       "    }\n",
       "\n",
       "    .dataframe tbody tr th {\n",
       "        vertical-align: top;\n",
       "    }\n",
       "\n",
       "    .dataframe thead th {\n",
       "        text-align: right;\n",
       "    }\n",
       "</style>\n",
       "<table border=\"1\" class=\"dataframe\">\n",
       "  <thead>\n",
       "    <tr style=\"text-align: right;\">\n",
       "      <th></th>\n",
       "      <th>use_nutrient_req</th>\n",
       "      <th>use_YieldvsSoilTestRanges</th>\n",
       "      <th>crop_code</th>\n",
       "      <th>chemical_code</th>\n",
       "      <th>client_id</th>\n",
       "      <th>farm_code</th>\n",
       "    </tr>\n",
       "  </thead>\n",
       "  <tbody>\n",
       "    <tr>\n",
       "      <th>0</th>\n",
       "      <td>False</td>\n",
       "      <td>True</td>\n",
       "      <td>194</td>\n",
       "      <td>19</td>\n",
       "      <td>7669</td>\n",
       "      <td>0</td>\n",
       "    </tr>\n",
       "    <tr>\n",
       "      <th>1</th>\n",
       "      <td>False</td>\n",
       "      <td>True</td>\n",
       "      <td>194</td>\n",
       "      <td>19</td>\n",
       "      <td>7670</td>\n",
       "      <td>0</td>\n",
       "    </tr>\n",
       "    <tr>\n",
       "      <th>2</th>\n",
       "      <td>False</td>\n",
       "      <td>True</td>\n",
       "      <td>23</td>\n",
       "      <td>19</td>\n",
       "      <td>7669</td>\n",
       "      <td>0</td>\n",
       "    </tr>\n",
       "    <tr>\n",
       "      <th>3</th>\n",
       "      <td>False</td>\n",
       "      <td>True</td>\n",
       "      <td>46</td>\n",
       "      <td>19</td>\n",
       "      <td>8763</td>\n",
       "      <td>0</td>\n",
       "    </tr>\n",
       "    <tr>\n",
       "      <th>4</th>\n",
       "      <td>False</td>\n",
       "      <td>True</td>\n",
       "      <td>46</td>\n",
       "      <td>19</td>\n",
       "      <td>7669</td>\n",
       "      <td>0</td>\n",
       "    </tr>\n",
       "    <tr>\n",
       "      <th>...</th>\n",
       "      <td>...</td>\n",
       "      <td>...</td>\n",
       "      <td>...</td>\n",
       "      <td>...</td>\n",
       "      <td>...</td>\n",
       "      <td>...</td>\n",
       "    </tr>\n",
       "    <tr>\n",
       "      <th>414</th>\n",
       "      <td>False</td>\n",
       "      <td>True</td>\n",
       "      <td>79</td>\n",
       "      <td>1</td>\n",
       "      <td>0</td>\n",
       "      <td>0</td>\n",
       "    </tr>\n",
       "    <tr>\n",
       "      <th>415</th>\n",
       "      <td>False</td>\n",
       "      <td>False</td>\n",
       "      <td>1651</td>\n",
       "      <td>19</td>\n",
       "      <td>0</td>\n",
       "      <td>0</td>\n",
       "    </tr>\n",
       "    <tr>\n",
       "      <th>416</th>\n",
       "      <td>False</td>\n",
       "      <td>False</td>\n",
       "      <td>1651</td>\n",
       "      <td>1</td>\n",
       "      <td>0</td>\n",
       "      <td>0</td>\n",
       "    </tr>\n",
       "    <tr>\n",
       "      <th>417</th>\n",
       "      <td>False</td>\n",
       "      <td>False</td>\n",
       "      <td>1650</td>\n",
       "      <td>19</td>\n",
       "      <td>0</td>\n",
       "      <td>0</td>\n",
       "    </tr>\n",
       "    <tr>\n",
       "      <th>418</th>\n",
       "      <td>False</td>\n",
       "      <td>False</td>\n",
       "      <td>1650</td>\n",
       "      <td>1</td>\n",
       "      <td>0</td>\n",
       "      <td>0</td>\n",
       "    </tr>\n",
       "  </tbody>\n",
       "</table>\n",
       "<p>419 rows × 6 columns</p>\n",
       "</div>"
      ],
      "text/plain": [
       "     use_nutrient_req  use_YieldvsSoilTestRanges  crop_code  chemical_code  \\\n",
       "0               False                       True        194             19   \n",
       "1               False                       True        194             19   \n",
       "2               False                       True         23             19   \n",
       "3               False                       True         46             19   \n",
       "4               False                       True         46             19   \n",
       "..                ...                        ...        ...            ...   \n",
       "414             False                       True         79              1   \n",
       "415             False                      False       1651             19   \n",
       "416             False                      False       1651              1   \n",
       "417             False                      False       1650             19   \n",
       "418             False                      False       1650              1   \n",
       "\n",
       "     client_id  farm_code  \n",
       "0         7669          0  \n",
       "1         7670          0  \n",
       "2         7669          0  \n",
       "3         8763          0  \n",
       "4         7669          0  \n",
       "..         ...        ...  \n",
       "414          0          0  \n",
       "415          0          0  \n",
       "416          0          0  \n",
       "417          0          0  \n",
       "418          0          0  \n",
       "\n",
       "[419 rows x 6 columns]"
      ]
     },
     "execution_count": 20,
     "metadata": {},
     "output_type": "execute_result"
    }
   ],
   "source": [
    "nutrient"
   ]
  },
  {
   "cell_type": "code",
   "execution_count": 21,
   "id": "9fd3c57f",
   "metadata": {},
   "outputs": [],
   "source": [
    "nutrient['chemical_symbol'] = [chemicals.loc[chemicals['chemical_code'] == i]['chemical_symbol'].values[0] for i in nutrient.chemical_code]"
   ]
  },
  {
   "cell_type": "code",
   "execution_count": null,
   "id": "6e901a20",
   "metadata": {},
   "outputs": [],
   "source": []
  },
  {
   "cell_type": "code",
   "execution_count": 22,
   "id": "1eb33aea",
   "metadata": {},
   "outputs": [],
   "source": [
    "for i in nutrient.crop_code:\n",
    "    if(len(crops.loc[crops['crop_code'] == i]) < 1):\n",
    "        continue\n",
    "    else:\n",
    "        name = crops.loc[crops['crop_code'] == i]['crop_name'].values[0]\n",
    "        nutrient.loc[nutrient['crop_code'] == i, 'crop_name'] = name"
   ]
  },
  {
   "cell_type": "code",
   "execution_count": 23,
   "id": "5ae6a392",
   "metadata": {},
   "outputs": [],
   "source": [
    "for i in nutrient.farm_code:\n",
    "    if(len(farms.loc[farms['farm_code'] == i]) < 1):\n",
    "        continue\n",
    "    else:\n",
    "        name = farms.loc[farms['farm_code'] == i]['farm_name'].values[0]\n",
    "        nutrient.loc[nutrient['farm_code'] == i, 'farm_name'] = name\n",
    "\n"
   ]
  },
  {
   "cell_type": "code",
   "execution_count": 24,
   "id": "41c97606",
   "metadata": {},
   "outputs": [],
   "source": [
    "nutrient = nutrient.loc[(nutrient['chemical_symbol']==\"P\") | (nutrient['chemical_symbol']==\"K\")]"
   ]
  },
  {
   "cell_type": "code",
   "execution_count": 25,
   "id": "df57d490",
   "metadata": {
    "scrolled": true
   },
   "outputs": [
    {
     "data": {
      "text/html": [
       "<div>\n",
       "<style scoped>\n",
       "    .dataframe tbody tr th:only-of-type {\n",
       "        vertical-align: middle;\n",
       "    }\n",
       "\n",
       "    .dataframe tbody tr th {\n",
       "        vertical-align: top;\n",
       "    }\n",
       "\n",
       "    .dataframe thead th {\n",
       "        text-align: right;\n",
       "    }\n",
       "</style>\n",
       "<table border=\"1\" class=\"dataframe\">\n",
       "  <thead>\n",
       "    <tr style=\"text-align: right;\">\n",
       "      <th></th>\n",
       "      <th>use_nutrient_req</th>\n",
       "      <th>use_YieldvsSoilTestRanges</th>\n",
       "      <th>crop_code</th>\n",
       "      <th>chemical_code</th>\n",
       "      <th>client_id</th>\n",
       "      <th>farm_code</th>\n",
       "      <th>chemical_symbol</th>\n",
       "      <th>crop_name</th>\n",
       "      <th>farm_name</th>\n",
       "    </tr>\n",
       "  </thead>\n",
       "  <tbody>\n",
       "    <tr>\n",
       "      <th>0</th>\n",
       "      <td>False</td>\n",
       "      <td>True</td>\n",
       "      <td>194</td>\n",
       "      <td>19</td>\n",
       "      <td>7669</td>\n",
       "      <td>0</td>\n",
       "      <td>P</td>\n",
       "      <td>Millet</td>\n",
       "      <td>NaN</td>\n",
       "    </tr>\n",
       "    <tr>\n",
       "      <th>1</th>\n",
       "      <td>False</td>\n",
       "      <td>True</td>\n",
       "      <td>194</td>\n",
       "      <td>19</td>\n",
       "      <td>7670</td>\n",
       "      <td>0</td>\n",
       "      <td>P</td>\n",
       "      <td>Millet</td>\n",
       "      <td>NaN</td>\n",
       "    </tr>\n",
       "    <tr>\n",
       "      <th>2</th>\n",
       "      <td>False</td>\n",
       "      <td>True</td>\n",
       "      <td>23</td>\n",
       "      <td>19</td>\n",
       "      <td>7669</td>\n",
       "      <td>0</td>\n",
       "      <td>P</td>\n",
       "      <td>ma</td>\n",
       "      <td>NaN</td>\n",
       "    </tr>\n",
       "    <tr>\n",
       "      <th>3</th>\n",
       "      <td>False</td>\n",
       "      <td>True</td>\n",
       "      <td>46</td>\n",
       "      <td>19</td>\n",
       "      <td>8763</td>\n",
       "      <td>0</td>\n",
       "      <td>P</td>\n",
       "      <td>Maize</td>\n",
       "      <td>NaN</td>\n",
       "    </tr>\n",
       "    <tr>\n",
       "      <th>4</th>\n",
       "      <td>False</td>\n",
       "      <td>True</td>\n",
       "      <td>46</td>\n",
       "      <td>19</td>\n",
       "      <td>7669</td>\n",
       "      <td>0</td>\n",
       "      <td>P</td>\n",
       "      <td>Maize</td>\n",
       "      <td>NaN</td>\n",
       "    </tr>\n",
       "    <tr>\n",
       "      <th>...</th>\n",
       "      <td>...</td>\n",
       "      <td>...</td>\n",
       "      <td>...</td>\n",
       "      <td>...</td>\n",
       "      <td>...</td>\n",
       "      <td>...</td>\n",
       "      <td>...</td>\n",
       "      <td>...</td>\n",
       "      <td>...</td>\n",
       "    </tr>\n",
       "    <tr>\n",
       "      <th>414</th>\n",
       "      <td>False</td>\n",
       "      <td>True</td>\n",
       "      <td>79</td>\n",
       "      <td>1</td>\n",
       "      <td>0</td>\n",
       "      <td>0</td>\n",
       "      <td>K</td>\n",
       "      <td>Canola (OSR)</td>\n",
       "      <td>NaN</td>\n",
       "    </tr>\n",
       "    <tr>\n",
       "      <th>415</th>\n",
       "      <td>False</td>\n",
       "      <td>False</td>\n",
       "      <td>1651</td>\n",
       "      <td>19</td>\n",
       "      <td>0</td>\n",
       "      <td>0</td>\n",
       "      <td>P</td>\n",
       "      <td>Sorghum (Hybrid)</td>\n",
       "      <td>NaN</td>\n",
       "    </tr>\n",
       "    <tr>\n",
       "      <th>416</th>\n",
       "      <td>False</td>\n",
       "      <td>False</td>\n",
       "      <td>1651</td>\n",
       "      <td>1</td>\n",
       "      <td>0</td>\n",
       "      <td>0</td>\n",
       "      <td>K</td>\n",
       "      <td>Sorghum (Hybrid)</td>\n",
       "      <td>NaN</td>\n",
       "    </tr>\n",
       "    <tr>\n",
       "      <th>417</th>\n",
       "      <td>False</td>\n",
       "      <td>False</td>\n",
       "      <td>1650</td>\n",
       "      <td>19</td>\n",
       "      <td>0</td>\n",
       "      <td>0</td>\n",
       "      <td>P</td>\n",
       "      <td>Sorghum (OPV)</td>\n",
       "      <td>NaN</td>\n",
       "    </tr>\n",
       "    <tr>\n",
       "      <th>418</th>\n",
       "      <td>False</td>\n",
       "      <td>False</td>\n",
       "      <td>1650</td>\n",
       "      <td>1</td>\n",
       "      <td>0</td>\n",
       "      <td>0</td>\n",
       "      <td>K</td>\n",
       "      <td>Sorghum (OPV)</td>\n",
       "      <td>NaN</td>\n",
       "    </tr>\n",
       "  </tbody>\n",
       "</table>\n",
       "<p>385 rows × 9 columns</p>\n",
       "</div>"
      ],
      "text/plain": [
       "     use_nutrient_req  use_YieldvsSoilTestRanges  crop_code  chemical_code  \\\n",
       "0               False                       True        194             19   \n",
       "1               False                       True        194             19   \n",
       "2               False                       True         23             19   \n",
       "3               False                       True         46             19   \n",
       "4               False                       True         46             19   \n",
       "..                ...                        ...        ...            ...   \n",
       "414             False                       True         79              1   \n",
       "415             False                      False       1651             19   \n",
       "416             False                      False       1651              1   \n",
       "417             False                      False       1650             19   \n",
       "418             False                      False       1650              1   \n",
       "\n",
       "     client_id  farm_code chemical_symbol         crop_name farm_name  \n",
       "0         7669          0               P            Millet       NaN  \n",
       "1         7670          0               P            Millet       NaN  \n",
       "2         7669          0               P                ma       NaN  \n",
       "3         8763          0               P             Maize       NaN  \n",
       "4         7669          0               P             Maize       NaN  \n",
       "..         ...        ...             ...               ...       ...  \n",
       "414          0          0               K      Canola (OSR)       NaN  \n",
       "415          0          0               P  Sorghum (Hybrid)       NaN  \n",
       "416          0          0               K  Sorghum (Hybrid)       NaN  \n",
       "417          0          0               P     Sorghum (OPV)       NaN  \n",
       "418          0          0               K     Sorghum (OPV)       NaN  \n",
       "\n",
       "[385 rows x 9 columns]"
      ]
     },
     "execution_count": 25,
     "metadata": {},
     "output_type": "execute_result"
    }
   ],
   "source": [
    "nutrient"
   ]
  },
  {
   "cell_type": "markdown",
   "id": "dc5705f6",
   "metadata": {},
   "source": [
    "FARMLAB"
   ]
  },
  {
   "cell_type": "code",
   "execution_count": null,
   "id": "56aa53ee",
   "metadata": {},
   "outputs": [],
   "source": [
    "fl_nutrient_client_level = nutrient.loc[(nutrient.client_id.isin(farmlab.client_id))]\n",
    "fl_nutrient_client_level['client_name'] = [farmlab.loc[farmlab[\"client_id\"] ==i][\"client_name\"].values[0] for i in fl_nutrient_client_level.client_id]\n",
    "fl_nutrient_client_level['client_type'] = \"farm_lab\"\n",
    "# Add the client name for all client_types (Expect around 20 results for FarmLab)\n",
    "ag_nutrient_client_level = nutrient.loc[(nutrient.client_id.isin(businessPartners.client_id))]\n",
    "ag_nutrient_client_level.client_name = [businessPartners.loc[businessPartners[\"client_id\"] ==i][\"client_name\"].values[0] for i in ag_nutrient_client_level.client_id]\n",
    "ag_nutrient_client_level['client_type'] = 'AgViza'\n",
    "#For Agviza add the campaign name and campaign id(These are usually for business partners) .. Should be left blank for the other two client types\n",
    "#Business partners have a parent and child \n",
    "# For agviza advice is set at parent level so child level is irrelevant for advice\n",
    "# Expect around 70-100 results for AgViza\n",
    "commercial_nutrient_client_level = nutrient.loc[(nutrient.client_id.isin(commercial.client_id))]\n",
    "commercial_nutrient_client_level.client_name = [commercial.loc[commercial[\"client_id\"] ==i][\"client_name\"].values[0] for i in commercial_nutrient_client_level.client_id]\n",
    "commercial_nutrient_client_level['client_type'] = \"Commercial\"\n",
    "#Farm_id and Farm Name should be added to commercial client type ... Should be left out in case of AgViza and FL\n",
    "# Expect results in the thousands\n",
    "\n",
    "\n",
    "##The overall results should be several thousands before adding any filter\n",
    "##Add the explanation of the results as well"
   ]
  },
  {
   "cell_type": "code",
   "execution_count": null,
   "id": "377e59e3",
   "metadata": {},
   "outputs": [],
   "source": [
    "df = pd.DataFrame()\n",
    "df = pd.concat([fl_nutrient_client_level,ag_nutrient_client_level,commercial_nutrient_client_level])"
   ]
  },
  {
   "cell_type": "code",
   "execution_count": null,
   "id": "12c6ae65",
   "metadata": {},
   "outputs": [],
   "source": [
    "df"
   ]
  },
  {
   "cell_type": "code",
   "execution_count": null,
   "id": "aba949a2",
   "metadata": {},
   "outputs": [],
   "source": [
    "fl_global = farmlab.loc[~(farmlab.client_id.isin(nutrient['client_id']))]\n",
    "ag_global = businessPartners.loc[~(businessPartners.client_id.isin(nutrient['client_id']))]\n",
    "comm_global = commercial.loc[~(commercial.client_id.isin(nutrient['client_id']))]"
   ]
  },
  {
   "cell_type": "code",
   "execution_count": null,
   "id": "e68d761e",
   "metadata": {},
   "outputs": [],
   "source": [
    "fl_global\n"
   ]
  },
  {
   "cell_type": "code",
   "execution_count": null,
   "id": "0f7eaec3",
   "metadata": {},
   "outputs": [],
   "source": [
    "for client in fl_global.client_id:\n",
    "    fl_global_df = nutrient.loc[(nutrient['client_id'] == 0) & (nutrient['farm_code'] == 0)]\n",
    "    fl_global_df['client_id'] = client\n",
    "    fl_global_df['client_type'] = \"farm_lab\"\n",
    "    df = pd.concat([df,fl_global_df])\n"
   ]
  },
  {
   "cell_type": "code",
   "execution_count": null,
   "id": "a4b05907",
   "metadata": {},
   "outputs": [],
   "source": [
    "for client in ag_global.client_id:\n",
    "    ag_global_df = nutrient.loc[(nutrient['client_id'] == 0) & (nutrient['farm_code'] == 0)]\n",
    "    ag_global_df['client_id'] = client\n",
    "    ag_global_df['client_type'] = \"AgViza\"\n",
    "    df = pd.concat([df,ag_global_df])"
   ]
  },
  {
   "cell_type": "code",
   "execution_count": null,
   "id": "ac380503",
   "metadata": {},
   "outputs": [],
   "source": [
    "\n",
    "for client in comm_global.client_id:\n",
    "    comm_global_df = nutrient.loc[(nutrient['client_id'] == 0) & (nutrient['farm_code'] == 0)]\n",
    "    comm_global_df['client_id'] = client\n",
    "    comm_global_df['client_type'] = \"Commercial\"\n",
    "    df = pd.concat([df,comm_global_df])"
   ]
  },
  {
   "cell_type": "code",
   "execution_count": null,
   "id": "4ef43d70",
   "metadata": {},
   "outputs": [],
   "source": []
  },
  {
   "cell_type": "code",
   "execution_count": null,
   "id": "254e617f",
   "metadata": {},
   "outputs": [],
   "source": []
  },
  {
   "cell_type": "code",
   "execution_count": null,
   "id": "5b9fd9a1",
   "metadata": {},
   "outputs": [],
   "source": []
  },
  {
   "cell_type": "code",
   "execution_count": null,
   "id": "a49d5f18",
   "metadata": {},
   "outputs": [],
   "source": []
  },
  {
   "cell_type": "code",
   "execution_count": null,
   "id": "7cbf9985",
   "metadata": {},
   "outputs": [],
   "source": [
    "df.to_csv(\"Settings.csv\")"
   ]
  },
  {
   "cell_type": "markdown",
   "id": "d1961a7f",
   "metadata": {},
   "source": [
    "Masterlist of crops"
   ]
  },
  {
   "cell_type": "code",
   "execution_count": null,
   "id": "c0dba0f2",
   "metadata": {},
   "outputs": [],
   "source": []
  },
  {
   "cell_type": "code",
   "execution_count": null,
   "id": "61e863e3",
   "metadata": {},
   "outputs": [],
   "source": []
  },
  {
   "cell_type": "code",
   "execution_count": null,
   "id": "6bd9349e",
   "metadata": {},
   "outputs": [],
   "source": [
    "# Avoid using inner join. Instead use WHERE example: Client_Id IN tuple(df.client_id.values) "
   ]
  }
 ],
 "metadata": {
  "kernelspec": {
   "display_name": "Python 3 (ipykernel)",
   "language": "python",
   "name": "python3"
  },
  "language_info": {
   "codemirror_mode": {
    "name": "ipython",
    "version": 3
   },
   "file_extension": ".py",
   "mimetype": "text/x-python",
   "name": "python",
   "nbconvert_exporter": "python",
   "pygments_lexer": "ipython3",
   "version": "3.10.7"
  }
 },
 "nbformat": 4,
 "nbformat_minor": 5
}
